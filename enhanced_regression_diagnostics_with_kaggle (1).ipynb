{
  "cells": [
    {
      "cell_type": "markdown",
      "metadata": {
        "id": "04efd1a8"
      },
      "source": [
        "\n",
        "# Introduction to Regression Diagnostics\n",
        "\n",
        "In regression analysis, it is crucial not only to estimate the parameters of a model but also to evaluate how well the model fits the data. This process is known as regression diagnostics.\n",
        "In this notebook, we will explore key diagnostics that help us check:\n",
        "\n",
        "- The normality of residuals\n",
        "- Homoscedasticity (constant variance of residuals)\n",
        "- Linearity\n",
        "- Independence of errors\n",
        "\n",
        "Understanding these diagnostics is vital for validating the assumptions of linear regression.\n",
        "\n",
        "### What is a Regression Model?\n",
        "\n",
        "A simple linear regression model can be written as:\n",
        "\n",
        "$$ y = \\beta_0 + \\beta_1 x + \\epsilon $$\n",
        "\n",
        "Where:\n",
        "- \\( y \\) is the dependent variable\n",
        "- \\( x \\) is the independent variable\n",
        "- \\( \\beta_0 \\) and \\( \\beta_1 \\) are the model parameters\n",
        "- \\( \\epsilon \\) is the error term (residual)\n",
        "\n",
        "The assumptions of linear regression include that residuals \\( \\epsilon \\) should be normally distributed, have constant variance, and be independent.\n",
        "\n",
        "### Objective\n",
        "\n",
        "This notebook will guide you through key regression diagnostics to check these assumptions.\n",
        "\n"
      ]
    },
    {
      "cell_type": "markdown",
      "metadata": {
        "id": "HrSRswlH1rrr"
      },
      "source": [
        "This example file shows how to use a few of the ``statsmodels`` regression diagnostic tests in a real-life context. You can learn about more tests and find out more information about the tests here on the [Regression Diagnostics page.](https://www.statsmodels.org/stable/diagnostic.html)\n",
        "\n",
        "Note that most of the tests described here only return a tuple of numbers, without any annotation. A full description of outputs is always included in the docstring and in the online ``statsmodels`` documentation. For presentation purposes, we use the ``zip(name,test)`` construct to pretty-print short descriptions in the examples below."
      ]
    },
    {
      "cell_type": "code",
      "execution_count": 1,
      "metadata": {
        "id": "c9f84df1"
      },
      "outputs": [],
      "source": [
        "\n",
        "import statsmodels.formula.api as smf\n",
        "\n",
        "url = \"https://raw.githubusercontent.com/vincentarelbundock/Rdatasets/master/csv/HistData/Guerry.csv\"\n",
        "dat = pd.read_csv(url)\n",
        "\n",
        "# Fit regression model (using the natural log of one of the regressors)\n",
        "results = smf.ols(\"Lottery ~ Literacy + np.log(Pop1831)\", data=dat).fit()\n"
      ]
    },
    {
      "cell_type": "code",
      "execution_count": null,
      "metadata": {
        "colab": {
          "base_uri": "https://localhost:8080/",
          "height": 564
        },
        "id": "03a23b8a",
        "outputId": "4fcd682d-d56e-460a-fbd5-64b63af38d03"
      },
      "outputs": [
        {
          "output_type": "display_data",
          "data": {
            "text/plain": [
              "<Figure size 800x600 with 1 Axes>"
            ],
            "image/png": "[encoded data removed]"
          },
          "metadata": {}
        }
      ],
      "source": [
        "\n",
        "# Plot the residuals to visually inspect them\n",
        "plt.figure(figsize=(8, 6))\n",
        "plt.scatter(results.fittedvalues, results.resid)\n",
        "plt.axhline(0, color='red', linestyle='--')\n",
        "plt.xlabel('Fitted Values')\n",
        "plt.ylabel('Residuals')\n",
        "plt.title('Residuals vs Fitted Values')\n",
        "plt.show()\n"
      ]
    },
    {
      "cell_type": "code",
      "execution_count": null,
      "metadata": {
        "colab": {
          "base_uri": "https://localhost:8080/"
        },
        "id": "51626df5",
        "outputId": "e231bf7e-e49a-4f72-b5d7-d421f2ff196c"
      },
      "outputs": [
        {
          "output_type": "stream",
          "name": "stdout",
          "text": [
            "[('Jarque-Bera', 3.39360802484318), ('Chi^2 two-tail prob.', 0.18326831231663254), ('Skew', -0.4865803431122347), ('Kurtosis', 3.003417757881634)]\n"
          ]
        }
      ],
      "source": [
        "\n",
        "# Perform the Jarque-Bera test for normality of residuals\n",
        "name = [\"Jarque-Bera\", \"Chi^2 two-tail prob.\", \"Skew\", \"Kurtosis\"]\n",
        "test = sms.jarque_bera(results.resid)\n",
        "print(list(zip(name, test)))\n"
      ]
    },
    {
      "cell_type": "code",
      "execution_count": null,
      "metadata": {
        "colab": {
          "base_uri": "https://localhost:8080/"
        },
        "id": "9d7d953a",
        "outputId": "3503dde0-2cfb-4afd-d3ae-1623d33abf74"
      },
      "outputs": [
        {
          "output_type": "stream",
          "name": "stdout",
          "text": [
            "[('Lagrange multiplier statistic', 4.893213374094005), ('p-value', 0.08658690502352002), ('f-value', 2.5037159462564618), ('f p-value', 0.08794028782672814)]\n"
          ]
        }
      ],
      "source": [
        "\n",
        "# Perform the Breusch-Pagan test for heteroscedasticity\n",
        "name = ['Lagrange multiplier statistic', 'p-value', 'f-value', 'f p-value']\n",
        "test = sms.het_breuschpagan(results.resid, results.model.exog)\n",
        "print(list(zip(name, test)))\n"
      ]
    },
    {
      "cell_type": "code",
      "execution_count": null,
      "metadata": {
        "colab": {
          "base_uri": "https://localhost:8080/",
          "height": 564
        },
        "id": "c0d50787",
        "outputId": "16165dad-9dcc-48e5-a977-4d43c3f069a4"
      },
      "outputs": [
        {
          "output_type": "display_data",
          "data": {
            "text/plain": [
              "<Figure size 800x600 with 1 Axes>"
            ],
            "image/png": "[encoded data removed]"
          },
          "metadata": {}
        }
      ],
      "source": [
        "\n",
        "# Plot a histogram of the residuals\n",
        "plt.figure(figsize=(8, 6))\n",
        "plt.hist(results.resid, bins=30, edgecolor='black')\n",
        "plt.title('Histogram of Residuals')\n",
        "plt.xlabel('Residuals')\n",
        "plt.ylabel('Frequency')\n",
        "plt.show()\n"
      ]
    },
    {
      "cell_type": "markdown",
      "metadata": {
        "id": "580d38a7"
      },
      "source": [
        "\n",
        "# Exploring Linear Regression with `statsmodels`\n",
        "\n",
        "Linear regression is one of the most commonly used techniques in data analysis. It helps in modeling the relationship between a dependent variable and one or more independent variables. The simplest form of linear regression is when there is only one independent variable (simple linear regression). When there are multiple independent variables, we call it **multiple linear regression**.\n",
        "\n",
        "## Why Use Linear Regression?\n",
        "Linear regression allows us to:\n",
        "1. Understand relationships between variables.\n",
        "2. Make predictions for future data.\n",
        "3. Evaluate the importance of different variables.\n",
        "4. Check the assumptions of the model (via diagnostics).\n",
        "\n",
        "`statsmodels` provides tools to simplify the process of fitting, analyzing, and interpreting linear regression models.\n",
        "\n",
        "### Packages in `statsmodels` for Linear Regression\n",
        "In `statsmodels`, there are several tools for fitting linear regression models. Some of the commonly used packages are:\n",
        "- **`statsmodels.formula.api`**: Allows fitting models using R-style formulas.\n",
        "- **`statsmodels.regression.linear_model.OLS`**: Fits ordinary least squares (OLS) models.\n",
        "- **`statsmodels.api.add_constant()`**: Adds an intercept to your model.\n",
        "\n",
        "We'll explore these tools in the upcoming examples.\n"
      ]
    },
    {
      "cell_type": "markdown",
      "metadata": {
        "id": "093af6f5"
      },
      "source": [
        "\n",
        "## Exercise: Fitting a New Linear Regression Model\n",
        "\n",
        "In this exercise, you will fit a new linear regression model. The code is partially completed, and you'll need to load a dataset of your choice and adjust the formula accordingly.\n",
        "\n",
        "### Steps:\n",
        "1. Load your dataset using `pandas`.\n",
        "2. Fit a regression model with two or more variables.\n",
        "3. Perform diagnostics, including residuals plots, normality tests, and heteroscedasticity tests.\n",
        "\n",
        "The following code provides the structure for this exercise:\n"
      ]
    },
    {
      "cell_type": "code",
      "source": [
        "import kagglehub\n",
        "import pandas as pd\n",
        "import os\n",
        "import statsmodels.formula.api as smf\n",
        "import statsmodels.stats.api as sms\n",
        "# Download latest version\n",
        "dataset_dir = kagglehub.dataset_download(\"nehalbirla/vehicle-dataset-from-cardekho\")\n",
        "\n",
        "# Find the CSV file within the downloaded directory\n",
        "for filename in os.listdir(dataset_dir):\n",
        "    if filename.endswith(\".csv\"):\n",
        "        filepath = os.path.join(dataset_dir, filename)\n",
        "        break  # Stop after finding the first CSV file\n",
        "\n",
        "print(\"Path to dataset files:\", filepath)  # Print the path to the CSV file\n",
        "data = pd.read_csv(filepath)  # Read the CSV file into a pandas DataFrame\n",
        "data.head()"
      ],
      "metadata": {
        "colab": {
          "base_uri": "https://localhost:8080/",
          "height": 224
        },
        "id": "5Q5fIT8HLKjU",
        "outputId": "3b91f591-4507-40bc-d7f8-2d48ae100789"
      },
      "execution_count": 7,
      "outputs": [
        {
          "output_type": "stream",
          "name": "stdout",
          "text": [
            "Path to dataset files: /root/.cache/kagglehub/datasets/nehalbirla/vehicle-dataset-from-cardekho/versions/4/CAR DETAILS FROM CAR DEKHO.csv\n"
          ]
        },
        {
          "output_type": "execute_result",
          "data": {
            "text/plain": [
              "                       name  year  selling_price  km_driven    fuel  \\\n",
              "0             Maruti 800 AC  2007          60000      70000  Petrol   \n",
              "1  Maruti Wagon R LXI Minor  2007         135000      50000  Petrol   \n",
              "2      Hyundai Verna 1.6 SX  2012         600000     100000  Diesel   \n",
              "3    Datsun RediGO T Option  2017         250000      46000  Petrol   \n",
              "4     Honda Amaze VX i-DTEC  2014         450000     141000  Diesel   \n",
              "\n",
              "  seller_type transmission         owner  \n",
              "0  Individual       Manual   First Owner  \n",
              "1  Individual       Manual   First Owner  \n",
              "2  Individual       Manual   First Owner  \n",
              "3  Individual       Manual   First Owner  \n",
              "4  Individual       Manual  Second Owner  "
            ],
            "text/html": [
              "\n",
              "  <div id=\"df-2fc2d106-89a4-4a06-89fa-ed0176a5b1be\" class=\"colab-df-container\">\n",
              "    <div>\n",
              "<style scoped>\n",
              "    .dataframe tbody tr th:only-of-type {\n",
              "        vertical-align: middle;\n",
              "    }\n",
              "\n",
              "    .dataframe tbody tr th {\n",
              "        vertical-align: top;\n",
              "    }\n",
              "\n",
              "    .dataframe thead th {\n",
              "        text-align: right;\n",
              "    }\n",
              "</style>\n",
              "<table border=\"1\" class=\"dataframe\">\n",
              "  <thead>\n",
              "    <tr style=\"text-align: right;\">\n",
              "      <th></th>\n",
              "      <th>name</th>\n",
              "      <th>year</th>\n",
              "      <th>selling_price</th>\n",
              "      <th>km_driven</th>\n",
              "      <th>fuel</th>\n",
              "      <th>seller_type</th>\n",
              "      <th>transmission</th>\n",
              "      <th>owner</th>\n",
              "    </tr>\n",
              "  </thead>\n",
              "  <tbody>\n",
              "    <tr>\n",
              "      <th>0</th>\n",
              "      <td>Maruti 800 AC</td>\n",
              "      <td>2007</td>\n",
              "      <td>60000</td>\n",
              "      <td>70000</td>\n",
              "      <td>Petrol</td>\n",
              "      <td>Individual</td>\n",
              "      <td>Manual</td>\n",
              "      <td>First Owner</td>\n",
              "    </tr>\n",
              "    <tr>\n",
              "      <th>1</th>\n",
              "      <td>Maruti Wagon R LXI Minor</td>\n",
              "      <td>2007</td>\n",
              "      <td>135000</td>\n",
              "      <td>50000</td>\n",
              "      <td>Petrol</td>\n",
              "      <td>Individual</td>\n",
              "      <td>Manual</td>\n",
              "      <td>First Owner</td>\n",
              "    </tr>\n",
              "    <tr>\n",
              "      <th>2</th>\n",
              "      <td>Hyundai Verna 1.6 SX</td>\n",
              "      <td>2012</td>\n",
              "      <td>600000</td>\n",
              "      <td>100000</td>\n",
              "      <td>Diesel</td>\n",
              "      <td>Individual</td>\n",
              "      <td>Manual</td>\n",
              "      <td>First Owner</td>\n",
              "    </tr>\n",
              "    <tr>\n",
              "      <th>3</th>\n",
              "      <td>Datsun RediGO T Option</td>\n",
              "      <td>2017</td>\n",
              "      <td>250000</td>\n",
              "      <td>46000</td>\n",
              "      <td>Petrol</td>\n",
              "      <td>Individual</td>\n",
              "      <td>Manual</td>\n",
              "      <td>First Owner</td>\n",
              "    </tr>\n",
              "    <tr>\n",
              "      <th>4</th>\n",
              "      <td>Honda Amaze VX i-DTEC</td>\n",
              "      <td>2014</td>\n",
              "      <td>450000</td>\n",
              "      <td>141000</td>\n",
              "      <td>Diesel</td>\n",
              "      <td>Individual</td>\n",
              "      <td>Manual</td>\n",
              "      <td>Second Owner</td>\n",
              "    </tr>\n",
              "  </tbody>\n",
              "</table>\n",
              "</div>\n",
              "    <div class=\"colab-df-buttons\">\n",
              "\n",
              "  <div class=\"colab-df-container\">\n",
              "    <button class=\"colab-df-convert\" onclick=\"convertToInteractive('df-2fc2d106-89a4-4a06-89fa-ed0176a5b1be')\"\n",
              "            title=\"Convert this dataframe to an interactive table.\"\n",
              "            style=\"display:none;\">\n",
              "\n",
              "  <svg xmlns=\"http://www.w3.org/2000/svg\" height=\"24px\" viewBox=\"0 -960 960 960\">\n",
              "    <path d=\"M120-120v-720h720v720H120Zm60-500h600v-160H180v160Zm220 220h160v-160H400v160Zm0 220h160v-160H400v160ZM180-400h160v-160H180v160Zm440 0h160v-160H620v160ZM180-180h160v-160H180v160Zm440 0h160v-160H620v160Z\"/>\n",
              "  </svg>\n",
              "    </button>\n",
              "\n",
              "  <style>\n",
              "    .colab-df-container {\n",
              "      display:flex;\n",
              "      gap: 12px;\n",
              "    }\n",
              "\n",
              "    .colab-df-convert {\n",
              "      background-color: #E8F0FE;\n",
              "      border: none;\n",
              "      border-radius: 50%;\n",
              "      cursor: pointer;\n",
              "      display: none;\n",
              "      fill: #1967D2;\n",
              "      height: 32px;\n",
              "      padding: 0 0 0 0;\n",
              "      width: 32px;\n",
              "    }\n",
              "\n",
              "    .colab-df-convert:hover {\n",
              "      background-color: #E2EBFA;\n",
              "      box-shadow: 0px 1px 2px rgba(60, 64, 67, 0.3), 0px 1px 3px 1px rgba(60, 64, 67, 0.15);\n",
              "      fill: #174EA6;\n",
              "    }\n",
              "\n",
              "    .colab-df-buttons div {\n",
              "      margin-bottom: 4px;\n",
              "    }\n",
              "\n",
              "    [theme=dark] .colab-df-convert {\n",
              "      background-color: #3B4455;\n",
              "      fill: #D2E3FC;\n",
              "    }\n",
              "\n",
              "    [theme=dark] .colab-df-convert:hover {\n",
              "      background-color: #434B5C;\n",
              "      box-shadow: 0px 1px 3px 1px rgba(0, 0, 0, 0.15);\n",
              "      filter: drop-shadow(0px 1px 2px rgba(0, 0, 0, 0.3));\n",
              "      fill: #FFFFFF;\n",
              "    }\n",
              "  </style>\n",
              "\n",
              "    <script>\n",
              "      const buttonEl =\n",
              "        document.querySelector('#df-2fc2d106-89a4-4a06-89fa-ed0176a5b1be button.colab-df-convert');\n",
              "      buttonEl.style.display =\n",
              "        google.colab.kernel.accessAllowed ? 'block' : 'none';\n",
              "\n",
              "      async function convertToInteractive(key) {\n",
              "        const element = document.querySelector('#df-2fc2d106-89a4-4a06-89fa-ed0176a5b1be');\n",
              "        const dataTable =\n",
              "          await google.colab.kernel.invokeFunction('convertToInteractive',\n",
              "                                                    [key], {});\n",
              "        if (!dataTable) return;\n",
              "\n",
              "        const docLinkHtml = 'Like what you see? Visit the ' +\n",
              "          '<a target=\"_blank\" href=https://colab.research.google.com/notebooks/data_table.ipynb>data table notebook</a>'\n",
              "          + ' to learn more about interactive tables.';\n",
              "        element.innerHTML = '';\n",
              "        dataTable['output_type'] = 'display_data';\n",
              "        await google.colab.output.renderOutput(dataTable, element);\n",
              "        const docLink = document.createElement('div');\n",
              "        docLink.innerHTML = docLinkHtml;\n",
              "        element.appendChild(docLink);\n",
              "      }\n",
              "    </script>\n",
              "  </div>\n",
              "\n",
              "\n",
              "<div id=\"df-8aebe8e0-2065-481d-b71a-65fb3165983e\">\n",
              "  <button class=\"colab-df-quickchart\" onclick=\"quickchart('df-8aebe8e0-2065-481d-b71a-65fb3165983e')\"\n",
              "            title=\"Suggest charts\"\n",
              "            style=\"display:none;\">\n",
              "\n",
              "<svg xmlns=\"http://www.w3.org/2000/svg\" height=\"24px\"viewBox=\"0 0 24 24\"\n",
              "     width=\"24px\">\n",
              "    <g>\n",
              "        <path d=\"M19 3H5c-1.1 0-2 .9-2 2v14c0 1.1.9 2 2 2h14c1.1 0 2-.9 2-2V5c0-1.1-.9-2-2-2zM9 17H7v-7h2v7zm4 0h-2V7h2v10zm4 0h-2v-4h2v4z\"/>\n",
              "    </g>\n",
              "</svg>\n",
              "  </button>\n",
              "\n",
              "<style>\n",
              "  .colab-df-quickchart {\n",
              "      --bg-color: #E8F0FE;\n",
              "      --fill-color: #1967D2;\n",
              "      --hover-bg-color: #E2EBFA;\n",
              "      --hover-fill-color: #174EA6;\n",
              "      --disabled-fill-color: #AAA;\n",
              "      --disabled-bg-color: #DDD;\n",
              "  }\n",
              "\n",
              "  [theme=dark] .colab-df-quickchart {\n",
              "      --bg-color: #3B4455;\n",
              "      --fill-color: #D2E3FC;\n",
              "      --hover-bg-color: #434B5C;\n",
              "      --hover-fill-color: #FFFFFF;\n",
              "      --disabled-bg-color: #3B4455;\n",
              "      --disabled-fill-color: #666;\n",
              "  }\n",
              "\n",
              "  .colab-df-quickchart {\n",
              "    background-color: var(--bg-color);\n",
              "    border: none;\n",
              "    border-radius: 50%;\n",
              "    cursor: pointer;\n",
              "    display: none;\n",
              "    fill: var(--fill-color);\n",
              "    height: 32px;\n",
              "    padding: 0;\n",
              "    width: 32px;\n",
              "  }\n",
              "\n",
              "  .colab-df-quickchart:hover {\n",
              "    background-color: var(--hover-bg-color);\n",
              "    box-shadow: 0 1px 2px rgba(60, 64, 67, 0.3), 0 1px 3px 1px rgba(60, 64, 67, 0.15);\n",
              "    fill: var(--button-hover-fill-color);\n",
              "  }\n",
              "\n",
              "  .colab-df-quickchart-complete:disabled,\n",
              "  .colab-df-quickchart-complete:disabled:hover {\n",
              "    background-color: var(--disabled-bg-color);\n",
              "    fill: var(--disabled-fill-color);\n",
              "    box-shadow: none;\n",
              "  }\n",
              "\n",
              "  .colab-df-spinner {\n",
              "    border: 2px solid var(--fill-color);\n",
              "    border-color: transparent;\n",
              "    border-bottom-color: var(--fill-color);\n",
              "    animation:\n",
              "      spin 1s steps(1) infinite;\n",
              "  }\n",
              "\n",
              "  @keyframes spin {\n",
              "    0% {\n",
              "      border-color: transparent;\n",
              "      border-bottom-color: var(--fill-color);\n",
              "      border-left-color: var(--fill-color);\n",
              "    }\n",
              "    20% {\n",
              "      border-color: transparent;\n",
              "      border-left-color: var(--fill-color);\n",
              "      border-top-color: var(--fill-color);\n",
              "    }\n",
              "    30% {\n",
              "      border-color: transparent;\n",
              "      border-left-color: var(--fill-color);\n",
              "      border-top-color: var(--fill-color);\n",
              "      border-right-color: var(--fill-color);\n",
              "    }\n",
              "    40% {\n",
              "      border-color: transparent;\n",
              "      border-right-color: var(--fill-color);\n",
              "      border-top-color: var(--fill-color);\n",
              "    }\n",
              "    60% {\n",
              "      border-color: transparent;\n",
              "      border-right-color: var(--fill-color);\n",
              "    }\n",
              "    80% {\n",
              "      border-color: transparent;\n",
              "      border-right-color: var(--fill-color);\n",
              "      border-bottom-color: var(--fill-color);\n",
              "    }\n",
              "    90% {\n",
              "      border-color: transparent;\n",
              "      border-bottom-color: var(--fill-color);\n",
              "    }\n",
              "  }\n",
              "</style>\n",
              "\n",
              "  <script>\n",
              "    async function quickchart(key) {\n",
              "      const quickchartButtonEl =\n",
              "        document.querySelector('#' + key + ' button');\n",
              "      quickchartButtonEl.disabled = true;  // To prevent multiple clicks.\n",
              "      quickchartButtonEl.classList.add('colab-df-spinner');\n",
              "      try {\n",
              "        const charts = await google.colab.kernel.invokeFunction(\n",
              "            'suggestCharts', [key], {});\n",
              "      } catch (error) {\n",
              "        console.error('Error during call to suggestCharts:', error);\n",
              "      }\n",
              "      quickchartButtonEl.classList.remove('colab-df-spinner');\n",
              "      quickchartButtonEl.classList.add('colab-df-quickchart-complete');\n",
              "    }\n",
              "    (() => {\n",
              "      let quickchartButtonEl =\n",
              "        document.querySelector('#df-8aebe8e0-2065-481d-b71a-65fb3165983e button');\n",
              "      quickchartButtonEl.style.display =\n",
              "        google.colab.kernel.accessAllowed ? 'block' : 'none';\n",
              "    })();\n",
              "  </script>\n",
              "</div>\n",
              "\n",
              "    </div>\n",
              "  </div>\n"
            ],
            "application/vnd.google.colaboratory.intrinsic+json": {
              "type": "dataframe",
              "variable_name": "data",
              "summary": "{\n  \"name\": \"data\",\n  \"rows\": 4340,\n  \"fields\": [\n    {\n      \"column\": \"name\",\n      \"properties\": {\n        \"dtype\": \"category\",\n        \"num_unique_values\": 1491,\n        \"samples\": [\n          \"Mahindra Thar DI 4X2\",\n          \"Maruti Swift VXI BSIII\",\n          \"Volkswagen Polo Petrol Comfortline 1.2L\"\n        ],\n        \"semantic_type\": \"\",\n        \"description\": \"\"\n      }\n    },\n    {\n      \"column\": \"year\",\n      \"properties\": {\n        \"dtype\": \"number\",\n        \"std\": 4,\n        \"min\": 1992,\n        \"max\": 2020,\n        \"num_unique_values\": 27,\n        \"samples\": [\n          2013,\n          1996,\n          2011\n        ],\n        \"semantic_type\": \"\",\n        \"description\": \"\"\n      }\n    },\n    {\n      \"column\": \"selling_price\",\n      \"properties\": {\n        \"dtype\": \"number\",\n        \"std\": 578548,\n        \"min\": 20000,\n        \"max\": 8900000,\n        \"num_unique_values\": 445,\n        \"samples\": [\n          346000,\n          198000,\n          385000\n        ],\n        \"semantic_type\": \"\",\n        \"description\": \"\"\n      }\n    },\n    {\n      \"column\": \"km_driven\",\n      \"properties\": {\n        \"dtype\": \"number\",\n        \"std\": 46644,\n        \"min\": 1,\n        \"max\": 806599,\n        \"num_unique_values\": 770,\n        \"samples\": [\n          60516,\n          63240,\n          54350\n        ],\n        \"semantic_type\": \"\",\n        \"description\": \"\"\n      }\n    },\n    {\n      \"column\": \"fuel\",\n      \"properties\": {\n        \"dtype\": \"category\",\n        \"num_unique_values\": 5,\n        \"samples\": [\n          \"Diesel\",\n          \"Electric\",\n          \"CNG\"\n        ],\n        \"semantic_type\": \"\",\n        \"description\": \"\"\n      }\n    },\n    {\n      \"column\": \"seller_type\",\n      \"properties\": {\n        \"dtype\": \"category\",\n        \"num_unique_values\": 3,\n        \"samples\": [\n          \"Individual\",\n          \"Dealer\",\n          \"Trustmark Dealer\"\n        ],\n        \"semantic_type\": \"\",\n        \"description\": \"\"\n      }\n    },\n    {\n      \"column\": \"transmission\",\n      \"properties\": {\n        \"dtype\": \"category\",\n        \"num_unique_values\": 2,\n        \"samples\": [\n          \"Automatic\",\n          \"Manual\"\n        ],\n        \"semantic_type\": \"\",\n        \"description\": \"\"\n      }\n    },\n    {\n      \"column\": \"owner\",\n      \"properties\": {\n        \"dtype\": \"category\",\n        \"num_unique_values\": 5,\n        \"samples\": [\n          \"Second Owner\",\n          \"Test Drive Car\"\n        ],\n        \"semantic_type\": \"\",\n        \"description\": \"\"\n      }\n    }\n  ]\n}"
            }
          },
          "metadata": {},
          "execution_count": 7
        }
      ]
    },
    {
      "cell_type": "code",
      "execution_count": 9,
      "metadata": {
        "id": "fd96f4ca",
        "colab": {
          "base_uri": "https://localhost:8080/",
          "height": 1000
        },
        "outputId": "ecb31934-b03f-4c2e-a165-dd6e4da0a4db"
      },
      "outputs": [
        {
          "output_type": "stream",
          "name": "stdout",
          "text": [
            "                            OLS Regression Results                            \n",
            "==============================================================================\n",
            "Dep. Variable:          selling_price   R-squared:                       0.037\n",
            "Model:                            OLS   Adj. R-squared:                  0.037\n",
            "Method:                 Least Squares   F-statistic:                     166.6\n",
            "Date:                Fri, 25 Oct 2024   Prob (F-statistic):           2.03e-37\n",
            "Time:                        19:43:01   Log-Likelihood:                -63660.\n",
            "No. Observations:                4340   AIC:                         1.273e+05\n",
            "Df Residuals:                    4338   BIC:                         1.273e+05\n",
            "Df Model:                           1                                         \n",
            "Covariance Type:            nonrobust                                         \n",
            "==============================================================================\n",
            "                 coef    std err          t      P>|t|      [0.025      0.975]\n",
            "------------------------------------------------------------------------------\n",
            "Intercept   6.621e+05    1.5e+04     44.232      0.000    6.33e+05    6.91e+05\n",
            "km_driven     -2.3850      0.185    -12.906      0.000      -2.747      -2.023\n",
            "==============================================================================\n",
            "Omnibus:                     4343.651   Durbin-Watson:                   1.737\n",
            "Prob(Omnibus):                  0.000   Jarque-Bera (JB):           266817.521\n",
            "Skew:                           4.883   Prob(JB):                         0.00\n",
            "Kurtosis:                      40.150   Cond. No.                     1.41e+05\n",
            "==============================================================================\n",
            "\n",
            "Notes:\n",
            "[1] Standard Errors assume that the covariance matrix of the errors is correctly specified.\n",
            "[2] The condition number is large, 1.41e+05. This might indicate that there are\n",
            "strong multicollinearity or other numerical problems.\n"
          ]
        },
        {
          "output_type": "display_data",
          "data": {
            "text/plain": [
              "<Figure size 800x600 with 1 Axes>"
            ],
            "image/png": "[encoded data removed]"
          },
          "metadata": {}
        },
        {
          "output_type": "stream",
          "name": "stdout",
          "text": [
            "[('Jarque-Bera', 266817.52105718415), ('Chi^2 two-tail prob.', 0.0), ('Skew', 4.883185306326592), ('Kurtosis', 40.1497860123613)]\n",
            "[('Lagrange multiplier statistic', 20.877685249216167), ('p-value', 4.8956472351582746e-06), ('f-value', 20.968935818694185), ('f p-value', 4.798673956450642e-06)]\n"
          ]
        },
        {
          "output_type": "display_data",
          "data": {
            "text/plain": [
              "<Figure size 800x600 with 1 Axes>"
            ],
            "image/png": "[encoded data removed]"
          },
          "metadata": {}
        }
      ],
      "source": [
        "import matplotlib.pyplot as plt\n",
        "# Step 1: Load your data\n",
        "# Example:\n",
        "# dat = pd.read_csv(\"your_dataset.csv\")\n",
        "\n",
        "# Step 2: Fit the new regression model\n",
        "# Replace 'dependent_variable' and 'independent_variable' with your column names\n",
        "new_results = smf.ols(\"selling_price ~ km_driven \", data=data).fit()\n",
        "\n",
        "# Step 3: Inspect the results\n",
        "print(new_results.summary())\n",
        "\n",
        "# Step 4: Plot the residuals\n",
        "plt.figure(figsize=(8, 6))\n",
        "plt.scatter(new_results.fittedvalues, new_results.resid)\n",
        "plt.axhline(0, color='red', linestyle='--')\n",
        "plt.xlabel('Fitted Values')\n",
        "plt.ylabel('Residuals')\n",
        "plt.title('Residuals vs Fitted Values (New Model)')\n",
        "plt.show()\n",
        "\n",
        "# Step 5: Perform Jarque-Bera test for normality of residuals\n",
        "name = [\"Jarque-Bera\", \"Chi^2 two-tail prob.\", \"Skew\", \"Kurtosis\"]\n",
        "test = sms.jarque_bera(new_results.resid)\n",
        "print(list(zip(name, test)))\n",
        "\n",
        "# Step 6: Perform the Breusch-Pagan test for heteroscedasticity\n",
        "name = ['Lagrange multiplier statistic', 'p-value', 'f-value', 'f p-value']\n",
        "test = sms.het_breuschpagan(new_results.resid, new_results.model.exog)\n",
        "print(list(zip(name, test)))\n",
        "\n",
        "# Step 7: Plot a histogram of the residuals\n",
        "plt.figure(figsize=(8, 6))\n",
        "plt.hist(new_results.resid, bins=30, edgecolor='black')\n",
        "plt.title('Histogram of Residuals (New Model)')\n",
        "plt.xlabel('Residuals')\n",
        "plt.ylabel('Frequency')\n",
        "plt.show()\n"
      ]
    },
    {
      "cell_type": "markdown",
      "metadata": {
        "id": "1052be26"
      },
      "source": [
        "\n",
        "## Exercises\n",
        "\n",
        "1. **Provide your dataset** and fit a multiple linear regression model.\n",
        "   - Use at least two independent variables.\n",
        "   - Interpret the coefficients and \\(R^2\\).\n",
        "   \n",
        "2. **Perform the diagnostics**:\n",
        "   - Plot the residuals vs fitted values.\n",
        "   - Test the normality of residuals using the Jarque-Bera test.\n",
        "   - Test for heteroscedasticity using the Breusch-Pagan test.\n",
        "   - Plot a histogram of the residuals.\n",
        "\n",
        "3. **Interpret the results**:\n",
        "   - Are the residuals normally distributed?\n",
        "   - Does your model meet the assumption of homoscedasticity (constant variance)?\n",
        "   - What improvements would you suggest based on your diagnostics?\n"
      ]
    },
    {
      "cell_type": "markdown",
      "metadata": {
        "id": "00344159"
      },
      "source": [
        "\n",
        "## Kaggle Datasets for Linear Regression\n",
        "\n",
        "Here are some datasets from Kaggle that you can use for the linear regression exercise. These datasets are commonly used for regression tasks and are great for practicing diagnostics and model evaluation:\n",
        "\n",
        "1. **House Prices - Advanced Regression Techniques**  \n",
        "   - [House Prices Dataset](https://www.kaggle.com/c/house-prices-advanced-regression-techniques/data)  \n",
        "   - Description: This dataset includes various features of houses, such as the number of rooms, lot area, and other characteristics. You can predict the sale price of houses using these features.\n",
        "\n",
        "2. **Student Performance**  \n",
        "   - [Student Performance Dataset](https://www.kaggle.com/spscientist/students-performance-in-exams)  \n",
        "   - Description: This dataset includes student scores in various subjects along with other features like study time, health, and parental education levels. It’s great for building models that predict exam scores.\n",
        "\n",
        "3. **Car Price Prediction**  \n",
        "   - [Car Price Dataset](https://www.kaggle.com/nehalbirla/vehicle-dataset-from-cardekho)  \n",
        "   - Description: This dataset contains information about cars, such as engine size, mileage, fuel type, and selling price. You can build a regression model to predict the selling price of cars.\n",
        "\n",
        "4. **Boston House Prices**  \n",
        "   - [Boston House Prices Dataset](https://www.kaggle.com/vikrishnan/boston-house-prices)  \n",
        "   - Description: A classic dataset used for regression tasks. It contains features related to housing in the Boston area, such as the number of rooms and crime rate, with the goal of predicting housing prices.\n",
        "\n",
        "5. **Insurance Charges Prediction**  \n",
        "   - [Insurance Dataset](https://www.kaggle.com/mirichoi0218/insurance)  \n",
        "   - Description: This dataset contains information about medical insurance charges along with features like age, gender, BMI, number of children, and smoking status. The goal is to predict the insurance charges based on these factors.\n",
        "\n",
        "You can download these datasets and use them to practice fitting linear regression models and performing diagnostics.\n"
      ]
    }
  ],
  "metadata": {
    "kernelspec": {
      "display_name": "base",
      "language": "python",
      "name": "python3"
    },
    "language_info": {
      "codemirror_mode": {
        "name": "ipython",
        "version": 3
      },
      "file_extension": ".py",
      "mimetype": "text/x-python",
      "name": "python",
      "nbconvert_exporter": "python",
      "pygments_lexer": "ipython3",
      "version": "3.12.3"
    },
    "colab": {
      "provenance": []
    }
  },
  "nbformat": 4,
  "nbformat_minor": 0
}