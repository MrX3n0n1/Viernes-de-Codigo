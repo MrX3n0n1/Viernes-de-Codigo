{
 "cells": [
  {
   "cell_type": "markdown",
   "id": "04efd1a8",
   "metadata": {},
   "source": [
    "\n",
    "# Introduction to Regression Diagnostics\n",
    "\n",
    "In regression analysis, it is crucial not only to estimate the parameters of a model but also to evaluate how well the model fits the data. This process is known as regression diagnostics. \n",
    "In this notebook, we will explore key diagnostics that help us check:\n",
    "\n",
    "- The normality of residuals\n",
    "- Homoscedasticity (constant variance of residuals)\n",
    "- Linearity\n",
    "- Independence of errors\n",
    "\n",
    "Understanding these diagnostics is vital for validating the assumptions of linear regression.\n",
    "\n",
    "### What is a Regression Model?\n",
    "\n",
    "A simple linear regression model can be written as:\n",
    "\n",
    "$$ y = \\beta_0 + \\beta_1 x + \\epsilon $$\n",
    "\n",
    "Where:\n",
    "- \\( y \\) is the dependent variable\n",
    "- \\( x \\) is the independent variable\n",
    "- \\( \\beta_0 \\) and \\( \\beta_1 \\) are the model parameters\n",
    "- \\( \\epsilon \\) is the error term (residual)\n",
    "\n",
    "The assumptions of linear regression include that residuals \\( \\epsilon \\) should be normally distributed, have constant variance, and be independent.\n",
    "\n",
    "### Objective\n",
    "\n",
    "This notebook will guide you through key regression diagnostics to check these assumptions.\n",
    "\n"
   ]
  },
  {
   "cell_type": "markdown",
   "metadata": {},
   "source": [
    "This example file shows how to use a few of the ``statsmodels`` regression diagnostic tests in a real-life context. You can learn about more tests and find out more information about the tests here on the [Regression Diagnostics page.](https://www.statsmodels.org/stable/diagnostic.html)\n",
    "\n",
    "Note that most of the tests described here only return a tuple of numbers, without any annotation. A full description of outputs is always included in the docstring and in the online ``statsmodels`` documentation. For presentation purposes, we use the ``zip(name,test)`` construct to pretty-print short descriptions in the examples below."
   ]
  },
  {
   "cell_type": "code",
   "execution_count": null,
   "id": "c9f84df1",
   "metadata": {},
   "outputs": [],
   "source": [
    "\n",
    "import numpy as np\n",
    "import pandas as pd\n",
    "import statsmodels.formula.api as smf\n",
    "import statsmodels.stats.api as sms\n",
    "import matplotlib.pyplot as plt\n",
    "\n",
    "url = \"https://raw.githubusercontent.com/vincentarelbundock/Rdatasets/master/csv/HistData/Guerry.csv\"\n",
    "dat = pd.read_csv(url)\n",
    "\n",
    "# Fit regression model (using the natural log of one of the regressors)\n",
    "results = smf.ols(\"Lottery ~ Literacy + np.log(Pop1831)\", data=dat).fit()\n"
   ]
  },
  {
   "cell_type": "code",
   "execution_count": null,
   "id": "03a23b8a",
   "metadata": {},
   "outputs": [],
   "source": [
    "\n",
    "# Plot the residuals to visually inspect them\n",
    "plt.figure(figsize=(8, 6))\n",
    "plt.scatter(results.fittedvalues, results.resid)\n",
    "plt.axhline(0, color='red', linestyle='--')\n",
    "plt.xlabel('Fitted Values')\n",
    "plt.ylabel('Residuals')\n",
    "plt.title('Residuals vs Fitted Values')\n",
    "plt.show()\n"
   ]
  },
  {
   "cell_type": "code",
   "execution_count": null,
   "id": "51626df5",
   "metadata": {},
   "outputs": [],
   "source": [
    "\n",
    "# Perform the Jarque-Bera test for normality of residuals\n",
    "name = [\"Jarque-Bera\", \"Chi^2 two-tail prob.\", \"Skew\", \"Kurtosis\"]\n",
    "test = sms.jarque_bera(results.resid)\n",
    "print(list(zip(name, test)))\n"
   ]
  },
  {
   "cell_type": "code",
   "execution_count": null,
   "id": "9d7d953a",
   "metadata": {},
   "outputs": [],
   "source": [
    "\n",
    "# Perform the Breusch-Pagan test for heteroscedasticity\n",
    "name = ['Lagrange multiplier statistic', 'p-value', 'f-value', 'f p-value']\n",
    "test = sms.het_breuschpagan(results.resid, results.model.exog)\n",
    "print(list(zip(name, test)))\n"
   ]
  },
  {
   "cell_type": "code",
   "execution_count": null,
   "id": "c0d50787",
   "metadata": {},
   "outputs": [],
   "source": [
    "\n",
    "# Plot a histogram of the residuals\n",
    "plt.figure(figsize=(8, 6))\n",
    "plt.hist(results.resid, bins=30, edgecolor='black')\n",
    "plt.title('Histogram of Residuals')\n",
    "plt.xlabel('Residuals')\n",
    "plt.ylabel('Frequency')\n",
    "plt.show()\n"
   ]
  },
  {
   "cell_type": "markdown",
   "id": "580d38a7",
   "metadata": {},
   "source": [
    "\n",
    "# Exploring Linear Regression with `statsmodels`\n",
    "\n",
    "Linear regression is one of the most commonly used techniques in data analysis. It helps in modeling the relationship between a dependent variable and one or more independent variables. The simplest form of linear regression is when there is only one independent variable (simple linear regression). When there are multiple independent variables, we call it **multiple linear regression**.\n",
    "\n",
    "## Why Use Linear Regression?\n",
    "Linear regression allows us to:\n",
    "1. Understand relationships between variables.\n",
    "2. Make predictions for future data.\n",
    "3. Evaluate the importance of different variables.\n",
    "4. Check the assumptions of the model (via diagnostics).\n",
    "\n",
    "`statsmodels` provides tools to simplify the process of fitting, analyzing, and interpreting linear regression models.\n",
    "\n",
    "### Packages in `statsmodels` for Linear Regression\n",
    "In `statsmodels`, there are several tools for fitting linear regression models. Some of the commonly used packages are:\n",
    "- **`statsmodels.formula.api`**: Allows fitting models using R-style formulas.\n",
    "- **`statsmodels.regression.linear_model.OLS`**: Fits ordinary least squares (OLS) models.\n",
    "- **`statsmodels.api.add_constant()`**: Adds an intercept to your model.\n",
    "\n",
    "We'll explore these tools in the upcoming examples.\n"
   ]
  },
  {
   "cell_type": "markdown",
   "id": "093af6f5",
   "metadata": {},
   "source": [
    "\n",
    "## Exercise: Fitting a New Linear Regression Model\n",
    "\n",
    "In this exercise, you will fit a new linear regression model. The code is partially completed, and you'll need to load a dataset of your choice and adjust the formula accordingly.\n",
    "\n",
    "### Steps:\n",
    "1. Load your dataset using `pandas`.\n",
    "2. Fit a regression model with two or more variables.\n",
    "3. Perform diagnostics, including residuals plots, normality tests, and heteroscedasticity tests.\n",
    "\n",
    "The following code provides the structure for this exercise:\n"
   ]
  },
  {
   "cell_type": "code",
   "execution_count": null,
   "id": "fd96f4ca",
   "metadata": {},
   "outputs": [],
   "source": [
    "\n",
    "# Step 1: Load your data\n",
    "# Example:\n",
    "# dat = pd.read_csv(\"your_dataset.csv\")\n",
    "\n",
    "# Step 2: Fit the new regression model\n",
    "# Replace 'dependent_variable' and 'independent_variable' with your column names\n",
    "# new_results = smf.ols(\"dependent_variable ~ independent_variable_1 + independent_variable_2\", data=dat).fit()\n",
    "\n",
    "# Step 3: Inspect the results\n",
    "# print(new_results.summary())\n",
    "\n",
    "# Step 4: Plot the residuals\n",
    "plt.figure(figsize=(8, 6))\n",
    "plt.scatter(new_results.fittedvalues, new_results.resid)\n",
    "plt.axhline(0, color='red', linestyle='--')\n",
    "plt.xlabel('Fitted Values')\n",
    "plt.ylabel('Residuals')\n",
    "plt.title('Residuals vs Fitted Values (New Model)')\n",
    "plt.show()\n",
    "\n",
    "# Step 5: Perform Jarque-Bera test for normality of residuals\n",
    "name = [\"Jarque-Bera\", \"Chi^2 two-tail prob.\", \"Skew\", \"Kurtosis\"]\n",
    "test = sms.jarque_bera(new_results.resid)\n",
    "print(list(zip(name, test)))\n",
    "\n",
    "# Step 6: Perform the Breusch-Pagan test for heteroscedasticity\n",
    "name = ['Lagrange multiplier statistic', 'p-value', 'f-value', 'f p-value']\n",
    "test = sms.het_breuschpagan(new_results.resid, new_results.model.exog)\n",
    "print(list(zip(name, test)))\n",
    "\n",
    "# Step 7: Plot a histogram of the residuals\n",
    "plt.figure(figsize=(8, 6))\n",
    "plt.hist(new_results.resid, bins=30, edgecolor='black')\n",
    "plt.title('Histogram of Residuals (New Model)')\n",
    "plt.xlabel('Residuals')\n",
    "plt.ylabel('Frequency')\n",
    "plt.show()\n"
   ]
  },
  {
   "cell_type": "markdown",
   "id": "1052be26",
   "metadata": {},
   "source": [
    "\n",
    "## Exercises\n",
    "\n",
    "1. **Provide your dataset** and fit a multiple linear regression model.\n",
    "   - Use at least two independent variables.\n",
    "   - Interpret the coefficients and \\(R^2\\).\n",
    "   \n",
    "2. **Perform the diagnostics**:\n",
    "   - Plot the residuals vs fitted values.\n",
    "   - Test the normality of residuals using the Jarque-Bera test.\n",
    "   - Test for heteroscedasticity using the Breusch-Pagan test.\n",
    "   - Plot a histogram of the residuals.\n",
    "\n",
    "3. **Interpret the results**:\n",
    "   - Are the residuals normally distributed?\n",
    "   - Does your model meet the assumption of homoscedasticity (constant variance)?\n",
    "   - What improvements would you suggest based on your diagnostics?\n"
   ]
  },
  {
   "cell_type": "markdown",
   "id": "00344159",
   "metadata": {},
   "source": [
    "\n",
    "## Kaggle Datasets for Linear Regression\n",
    "\n",
    "Here are some datasets from Kaggle that you can use for the linear regression exercise. These datasets are commonly used for regression tasks and are great for practicing diagnostics and model evaluation:\n",
    "\n",
    "1. **House Prices - Advanced Regression Techniques**  \n",
    "   - [House Prices Dataset](https://www.kaggle.com/c/house-prices-advanced-regression-techniques/data)  \n",
    "   - Description: This dataset includes various features of houses, such as the number of rooms, lot area, and other characteristics. You can predict the sale price of houses using these features.\n",
    "\n",
    "2. **Student Performance**  \n",
    "   - [Student Performance Dataset](https://www.kaggle.com/spscientist/students-performance-in-exams)  \n",
    "   - Description: This dataset includes student scores in various subjects along with other features like study time, health, and parental education levels. It’s great for building models that predict exam scores.\n",
    "\n",
    "3. **Car Price Prediction**  \n",
    "   - [Car Price Dataset](https://www.kaggle.com/nehalbirla/vehicle-dataset-from-cardekho)  \n",
    "   - Description: This dataset contains information about cars, such as engine size, mileage, fuel type, and selling price. You can build a regression model to predict the selling price of cars.\n",
    "\n",
    "4. **Boston House Prices**  \n",
    "   - [Boston House Prices Dataset](https://www.kaggle.com/vikrishnan/boston-house-prices)  \n",
    "   - Description: A classic dataset used for regression tasks. It contains features related to housing in the Boston area, such as the number of rooms and crime rate, with the goal of predicting housing prices.\n",
    "\n",
    "5. **Insurance Charges Prediction**  \n",
    "   - [Insurance Dataset](https://www.kaggle.com/mirichoi0218/insurance)  \n",
    "   - Description: This dataset contains information about medical insurance charges along with features like age, gender, BMI, number of children, and smoking status. The goal is to predict the insurance charges based on these factors.\n",
    "\n",
    "You can download these datasets and use them to practice fitting linear regression models and performing diagnostics.\n"
   ]
  }
 ],
 "metadata": {
  "kernelspec": {
   "display_name": "base",
   "language": "python",
   "name": "python3"
  },
  "language_info": {
   "codemirror_mode": {
    "name": "ipython",
    "version": 3
   },
   "file_extension": ".py",
   "mimetype": "text/x-python",
   "name": "python",
   "nbconvert_exporter": "python",
   "pygments_lexer": "ipython3",
   "version": "3.12.3"
  }
 },
 "nbformat": 4,
 "nbformat_minor": 4
}
