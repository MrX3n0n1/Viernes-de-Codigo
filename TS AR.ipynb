{
 "cells": [
  {
   "cell_type": "markdown",
   "metadata": {},
   "source": [
    "# Time Series Modeling - AR, MA, ARMA, ARIMA, SARIMA, and GARCH Models\n",
    "\n",
    "In this notebook, we will explore key time series models, including AR(p), MA(q), ARMA(p, q), ARIMA(p, d, q), SARIMA(p, d, q)(P, D, Q, s), and GARCH models.\n",
    "We will cover the theory behind each model, provide mathematical formulas in LaTeX, and demonstrate how to implement each model using Python with appropriate packages.\n"
   ]
  },
  {
   "cell_type": "markdown",
   "metadata": {},
   "source": [
    "## 1. Autoregressive (AR) Model\n",
    "\n",
    "The **AR(p)** model is an extension of the AR(1) model, incorporating multiple lags.\n",
    "\n",
    "The AR(p) model is defined as:\n",
    "\n",
    "$$\n",
    "X_t = c + \\phi_1 X_{t-1} + \\phi_2 X_{t-2} + \\dots + \\phi_p X_{t-p} + \\epsilon_t"
   ]
  },
  {
   "cell_type": "code",
   "execution_count": null,
   "metadata": {},
   "outputs": [],
   "source": [
    "import numpy as np\n",
    "import pandas as pd\n",
    "import statsmodels.api as sm\n",
    "from statsmodels.tsa.ar_model import AutoReg\n",
    "import plotly.graph_objs as go\n",
    "\n",
    "\n",
    "# Simulate AR(p) process\n",
    "np.random.seed(42)\n",
    "n = 100\n",
    "phi = [0.75, -0.25]  # AR(2) coefficients\n",
    "X = np.zeros(n)\n",
    "for t in range(2, n):\n",
    "    X[t] = phi[0] * X[t-1] + phi[1] * X[t-2] + np.random.normal()\n",
    "\n",
    "# Fit AR model\n",
    "model = AutoReg(X, lags=2).fit()\n",
    "print(model.summary())\n",
    "\n",
    "# Plot the results using Plotly\n",
    "fig = go.Figure()\n",
    "fig.add_trace(go.Scatter(x=np.arange(len(X)), y=X, mode='lines', name='Simulated AR(2) data'))\n",
    "fig.add_trace(go.Scatter(x=np.arange(len(X)), y=model.fittedvalues, mode='lines', name='Fitted AR(2)'))\n",
    "fig.update_layout(title='AR(2) Model', xaxis_title='Time', yaxis_title='Value')\n",
    "fig.show()"
   ]
  },
  {
   "cell_type": "markdown",
   "metadata": {},
   "source": [
    "## 2. Moving Average (MA) Model\n",
    "\n",
    "The **MA(q)** model is a model where the output variable depends linearly on current and past error terms.\n",
    "\n",
    "The MA(q) model is defined as:\n",
    "\n",
    "$$\n",
    "X_t = c + \\epsilon_t + \\theta_1 \\epsilon_{t-1} + \\theta_2 \\epsilon_{t-2} + \\dots + \\theta_q \\epsilon_{t-q}\n",
    "$$\n",
    "\n",
    "Where:\n",
    "- \\( \\epsilon_t \\) is white noise,\n",
    "- \\( \\theta_i \\) are the moving average coefficients.\n"
   ]
  },
  {
   "cell_type": "code",
   "execution_count": null,
   "metadata": {},
   "outputs": [],
   "source": [
    "import statsmodels.tsa.api as smtsa"
   ]
  },
  {
   "cell_type": "code",
   "execution_count": null,
   "metadata": {},
   "outputs": [],
   "source": [
    "# Simulate MA(q) process\n",
    "np.random.seed(42)\n",
    "n = 100\n",
    "theta = [0.6, 0.3]  # MA(2) coefficients\n",
    "epsilon = np.random.normal(size=n)\n",
    "X_ma = np.zeros(n)\n",
    "for t in range(2, n):\n",
    "    X_ma[t] = epsilon[t] + theta[0] * epsilon[t-1] + theta[1] * epsilon[t-2]\n",
    "\n",
    "# Fit MA model\n",
    "model_ma = smtsa.ARIMA(X_ma, order=(0, 0, 2)).fit()\n",
    "print(model_ma.summary())\n",
    "\n",
    "# Plot the results using Plotly\n",
    "fig = go.Figure()\n",
    "fig.add_trace(go.Scatter(x=np.arange(len(X_ma)), y=X_ma, mode='lines', name='Simulated MA(2) data'))\n",
    "fig.add_trace(go.Scatter(x=np.arange(len(X_ma)), y=model_ma.fittedvalues, mode='lines', name='Fitted MA(2)'))\n",
    "fig.update_layout(title='MA(2) Model', xaxis_title='Time', yaxis_title='Value')\n",
    "fig.show()"
   ]
  },
  {
   "cell_type": "markdown",
   "metadata": {},
   "source": [
    "## 3. Autoregressive Moving Average (ARMA) Model\n",
    "\n",
    "The **ARMA(p, q)** model combines the AR(p) and MA(q) models.\n",
    "\n",
    "The ARMA(p, q) model is defined as:\n",
    "\n",
    "$$\n",
    "X_t = c + \\sum_{i=1}^{p} \\phi_i X_{t-i} + \\epsilon_t + \\sum_{j=1}^{q} \\theta_j \\epsilon_{t-j}\n",
    "$$\n",
    "\n",
    "Where:\n",
    "- \\( \\phi_i \\) are the autoregressive coefficients,\n",
    "- \\( \\theta_j \\) are the moving average coefficients,\n",
    "- \\( \\epsilon_t \\) is white noise.\n"
   ]
  },
  {
   "cell_type": "code",
   "execution_count": null,
   "metadata": {},
   "outputs": [],
   "source": [
    "# Simulate ARMA process\n",
    "np.random.seed(42)\n",
    "n = 100\n",
    "phi = [0.75]  # AR(1) coefficient\n",
    "theta = [0.6]  # MA(1) coefficient\n",
    "X_arma = np.zeros(n)\n",
    "epsilon_arma = np.random.normal(size=n)\n",
    "for t in range(1, n):\n",
    "    X_arma[t] = phi[0] * X_arma[t-1] + epsilon_arma[t] + theta[0] * epsilon_arma[t-1]\n",
    "\n",
    "# Fit ARMA model\n",
    "model_arma = smtsa.ARIMA(X_arma, order=(1, 0, 1)).fit()\n",
    "print(model_arma.summary())\n",
    "\n",
    "# Plot the results using Plotly\n",
    "fig = go.Figure()\n",
    "fig.add_trace(go.Scatter(x=np.arange(len(X_arma)), y=X_arma, mode='lines', name='Simulated ARMA(1,1) data'))\n",
    "fig.add_trace(go.Scatter(x=np.arange(len(X_arma)), y=model_arma.fittedvalues, mode='lines', name='Fitted ARMA(1,1)'))\n",
    "fig.update_layout(title='ARMA(1,1) Model', xaxis_title='Time', yaxis_title='Value')\n",
    "fig.show()"
   ]
  },
  {
   "cell_type": "markdown",
   "metadata": {},
   "source": [
    "## 4. Autoregressive Integrated Moving Average (ARIMA) Model\n",
    "\n",
    "The **ARIMA(p, d, q)** model is an extension of the ARMA model for non-stationary data, where \\( d \\) represents the number of differences taken to make the series stationary.\n",
    "\n",
    "The ARIMA(p, d, q) model is defined as:\n",
    "\n",
    "$$\n",
    "\\Delta^d X_t = c + \\sum_{i=1}^{p} \\phi_i \\Delta^d X_{t-i} + \\epsilon_t + \\sum_{j=1}^{q} \\theta_j \\epsilon_{t-j}\n",
    "$$\n",
    "\n",
    "Where:\n",
    "- \\( d \\) is the degree of differencing,\n",
    "- \\( \\Delta \\) is the difference operator.\n"
   ]
  },
  {
   "cell_type": "code",
   "execution_count": null,
   "metadata": {},
   "outputs": [],
   "source": [
    "# Simulate ARIMA process\n",
    "np.random.seed(42)\n",
    "n = 200\n",
    "X_arima = np.cumsum(np.random.normal(size=n))  # Non-stationary data\n",
    "\n",
    "# Fit ARIMA model\n",
    "model_arima = smtsa.ARIMA(X_arima, order=(1, 1, 1)).fit()\n",
    "print(model_arima.summary())\n",
    "\n",
    "# Plot the results using Plotly\n",
    "fig = go.Figure()\n",
    "fig.add_trace(go.Scatter(x=np.arange(len(X_arima)), y=X_arima, mode='lines', name='Simulated ARIMA(1,1,1) data'))\n",
    "fig.add_trace(go.Scatter(x=np.arange(len(X_arima)), y=model_arima.fittedvalues, mode='lines', name='Fitted ARIMA(1,1,1)'))\n",
    "fig.update_layout(title='ARIMA(1,1,1) Model', xaxis_title='Time', yaxis_title='Value')\n",
    "fig.show()"
   ]
  },
  {
   "cell_type": "markdown",
   "metadata": {},
   "source": [
    "## 5. Seasonal ARIMA (SARIMA) Model\n",
    "\n",
    "The **SARIMA** model extends the ARIMA model by incorporating seasonality.\n",
    "\n",
    "The SARIMA model is defined as:\n",
    "\n",
    "$$\n",
    "(1 - \\sum_{i=1}^{p} \\phi_i B^i)(1 - \\sum_{i=1}^{P} \\Phi_i B^{is})(X_t - \\mu) = (1 + \\sum_{i=1}^{q} \\theta_i B^i)(1 + \\sum_{i=1}^{Q} \\Theta_i B^{is}) \\epsilon_t\n",
    "$$\n",
    "\n",
    "Where:\n",
    "- \\( s \\) is the seasonal period,\n",
    "- \\( P, D, Q \\) are the seasonal autoregressive, differencing, and moving average terms.\n"
   ]
  },
  {
   "cell_type": "code",
   "execution_count": null,
   "metadata": {},
   "outputs": [],
   "source": [
    "# Fit SARIMA model\n",
    "model_sarima = smtsa.ARIMA(X_arima, order=(1, 1, 1), seasonal_order=(1, 1, 1, 12)).fit()\n",
    "print(model_sarima.summary())\n",
    "\n",
    "# Plot the results using Plotly\n",
    "fig = go.Figure()\n",
    "fig.add_trace(go.Scatter(x=np.arange(len(X_arima)), y=X_arima, mode='lines', name='Simulated data'))\n",
    "fig.add_trace(go.Scatter(x=np.arange(len(X_arima)), y=model_sarima.fittedvalues, mode='lines', name='Fitted SARIMA model'))\n",
    "fig.update_layout(title='SARIMA Model', xaxis_title='Time', yaxis_title='Value')\n",
    "fig.show()"
   ]
  },
  {
   "cell_type": "markdown",
   "metadata": {},
   "source": [
    "## 6. Generalized Autoregressive Conditional Heteroskedasticity (GARCH) Model\n",
    "\n",
    "The **GARCH(p, q)** model is used to model volatility in time series, particularly in financial data.\n",
    "\n",
    "The GARCH(p, q) model is defined as:\n",
    "\n",
    "$$\n",
    "\\epsilon_t = \\sigma_t Z_t, \\quad \\sigma_t^2 = \\alpha_0 + \\sum_{i=1}^{p} \\alpha_i \\epsilon_{t-i}^2 + \\sum_{j=1}^{q} \\beta_j \\sigma_{t-j}^2\n",
    "$$\n"
   ]
  },
  {
   "cell_type": "code",
   "execution_count": null,
   "metadata": {},
   "outputs": [],
   "source": [
    "from arch import arch_model\n",
    "# Simulate a GARCH(1,1) process\n",
    "np.random.seed(42)\n",
    "n = 1000\n",
    "alpha_0 = 0.1\n",
    "alpha_1 = 0.3\n",
    "beta_1 = 0.6\n",
    "omega = 0.1\n",
    "epsilon = np.random.normal(size=n)\n",
    "\n",
    "# Generate the GARCH(1,1) process\n",
    "sigma = np.zeros(n)\n",
    "sigma[0] = omega\n",
    "X_garch = np.zeros(n)\n",
    "for t in range(1, n):\n",
    "    sigma[t] = np.sqrt(alpha_0 + alpha_1 * X_garch[t-1]**2 + beta_1 * sigma[t-1]**2)\n",
    "    X_garch[t] = sigma[t] * np.random.normal()\n",
    "\n",
    "# Fit the GARCH model\n",
    "model_garch = arch_model(X_garch, vol='Garch', p=1, q=1)\n",
    "res_garch = model_garch.fit()\n",
    "print(res_garch.summary())\n",
    "\n",
    "# Plot the results using Plotly\n",
    "fig = go.Figure()\n",
    "fig.add_trace(go.Scatter(x=np.arange(len(X_garch)), y=X_garch, mode='lines', name='Simulated GARCH(1,1) data'))\n",
    "fig.add_trace(go.Scatter(x=np.arange(len(X_garch)), y=res_garch.conditional_volatility, mode='lines', name='Fitted GARCH volatility'))\n",
    "fig.update_layout(title='GARCH(1,1) Model', xaxis_title='Time', yaxis_title='Value')\n",
    "fig.show()"
   ]
  }
 ],
 "metadata": {
  "kernelspec": {
   "display_name": "base",
   "language": "python",
   "name": "python3"
  },
  "language_info": {
   "codemirror_mode": {
    "name": "ipython",
    "version": 3
   },
   "file_extension": ".py",
   "mimetype": "text/x-python",
   "name": "python",
   "nbconvert_exporter": "python",
   "pygments_lexer": "ipython3",
   "version": "3.12.3"
  }
 },
 "nbformat": 4,
 "nbformat_minor": 2
}
